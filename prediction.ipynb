{
 "cells": [
  {
   "cell_type": "markdown",
   "id": "b5d98e2d",
   "metadata": {},
   "source": [
    "## STEP1: IMPORTING THE NECESSARY LIBRARIES "
   ]
  },
  {
   "cell_type": "code",
   "execution_count": 1,
   "id": "844f4243",
   "metadata": {},
   "outputs": [],
   "source": [
    "import pandas as pd\n",
    "\n",
    "import numpy as np\n",
    "\n",
    "import matplotlib.pyplot as plt\n",
    "import seaborn as sns"
   ]
  },
  {
   "cell_type": "code",
   "execution_count": 2,
   "id": "cc0ab439",
   "metadata": {},
   "outputs": [],
   "source": [
    "from sklearn.preprocessing import StandardScaler\n",
    "from sklearn import metrics"
   ]
  },
  {
   "cell_type": "code",
   "execution_count": 3,
   "id": "fd4c2c2e",
   "metadata": {},
   "outputs": [],
   "source": [
    "from sklearn.model_selection import train_test_split"
   ]
  },
  {
   "cell_type": "markdown",
   "id": "4641641f",
   "metadata": {},
   "source": [
    "## STEP2: DATA LOADING AND PRE-PROCESSING"
   ]
  },
  {
   "cell_type": "code",
   "execution_count": 4,
   "id": "fce88cd2",
   "metadata": {},
   "outputs": [],
   "source": [
    "train = pd.read_csv('S_train.csv')\n",
    "test = pd.read_csv('S_test.csv')"
   ]
  },
  {
   "cell_type": "code",
   "execution_count": 5,
   "id": "0ba21405",
   "metadata": {},
   "outputs": [
    {
     "data": {
      "text/html": [
       "<div>\n",
       "<style scoped>\n",
       "    .dataframe tbody tr th:only-of-type {\n",
       "        vertical-align: middle;\n",
       "    }\n",
       "\n",
       "    .dataframe tbody tr th {\n",
       "        vertical-align: top;\n",
       "    }\n",
       "\n",
       "    .dataframe thead th {\n",
       "        text-align: right;\n",
       "    }\n",
       "</style>\n",
       "<table border=\"1\" class=\"dataframe\">\n",
       "  <thead>\n",
       "    <tr style=\"text-align: right;\">\n",
       "      <th></th>\n",
       "      <th>PassengerId</th>\n",
       "      <th>HomePlanet</th>\n",
       "      <th>CryoSleep</th>\n",
       "      <th>Cabin</th>\n",
       "      <th>Destination</th>\n",
       "      <th>Age</th>\n",
       "      <th>VIP</th>\n",
       "      <th>RoomService</th>\n",
       "      <th>FoodCourt</th>\n",
       "      <th>ShoppingMall</th>\n",
       "      <th>Spa</th>\n",
       "      <th>VRDeck</th>\n",
       "      <th>Name</th>\n",
       "      <th>Transported</th>\n",
       "    </tr>\n",
       "  </thead>\n",
       "  <tbody>\n",
       "    <tr>\n",
       "      <th>0</th>\n",
       "      <td>0001_01</td>\n",
       "      <td>Europa</td>\n",
       "      <td>False</td>\n",
       "      <td>B/0/P</td>\n",
       "      <td>TRAPPIST-1e</td>\n",
       "      <td>39.0</td>\n",
       "      <td>False</td>\n",
       "      <td>0.0</td>\n",
       "      <td>0.0</td>\n",
       "      <td>0.0</td>\n",
       "      <td>0.0</td>\n",
       "      <td>0.0</td>\n",
       "      <td>Maham Ofracculy</td>\n",
       "      <td>False</td>\n",
       "    </tr>\n",
       "    <tr>\n",
       "      <th>1</th>\n",
       "      <td>0002_01</td>\n",
       "      <td>Earth</td>\n",
       "      <td>False</td>\n",
       "      <td>F/0/S</td>\n",
       "      <td>TRAPPIST-1e</td>\n",
       "      <td>24.0</td>\n",
       "      <td>False</td>\n",
       "      <td>109.0</td>\n",
       "      <td>9.0</td>\n",
       "      <td>25.0</td>\n",
       "      <td>549.0</td>\n",
       "      <td>44.0</td>\n",
       "      <td>Juanna Vines</td>\n",
       "      <td>True</td>\n",
       "    </tr>\n",
       "    <tr>\n",
       "      <th>2</th>\n",
       "      <td>0003_01</td>\n",
       "      <td>Europa</td>\n",
       "      <td>False</td>\n",
       "      <td>A/0/S</td>\n",
       "      <td>TRAPPIST-1e</td>\n",
       "      <td>58.0</td>\n",
       "      <td>True</td>\n",
       "      <td>43.0</td>\n",
       "      <td>3576.0</td>\n",
       "      <td>0.0</td>\n",
       "      <td>6715.0</td>\n",
       "      <td>49.0</td>\n",
       "      <td>Altark Susent</td>\n",
       "      <td>False</td>\n",
       "    </tr>\n",
       "    <tr>\n",
       "      <th>3</th>\n",
       "      <td>0003_02</td>\n",
       "      <td>Europa</td>\n",
       "      <td>False</td>\n",
       "      <td>A/0/S</td>\n",
       "      <td>TRAPPIST-1e</td>\n",
       "      <td>33.0</td>\n",
       "      <td>False</td>\n",
       "      <td>0.0</td>\n",
       "      <td>1283.0</td>\n",
       "      <td>371.0</td>\n",
       "      <td>3329.0</td>\n",
       "      <td>193.0</td>\n",
       "      <td>Solam Susent</td>\n",
       "      <td>False</td>\n",
       "    </tr>\n",
       "    <tr>\n",
       "      <th>4</th>\n",
       "      <td>0004_01</td>\n",
       "      <td>Earth</td>\n",
       "      <td>False</td>\n",
       "      <td>F/1/S</td>\n",
       "      <td>TRAPPIST-1e</td>\n",
       "      <td>16.0</td>\n",
       "      <td>False</td>\n",
       "      <td>303.0</td>\n",
       "      <td>70.0</td>\n",
       "      <td>151.0</td>\n",
       "      <td>565.0</td>\n",
       "      <td>2.0</td>\n",
       "      <td>Willy Santantines</td>\n",
       "      <td>True</td>\n",
       "    </tr>\n",
       "  </tbody>\n",
       "</table>\n",
       "</div>"
      ],
      "text/plain": [
       "  PassengerId HomePlanet CryoSleep  Cabin  Destination   Age    VIP  \\\n",
       "0     0001_01     Europa     False  B/0/P  TRAPPIST-1e  39.0  False   \n",
       "1     0002_01      Earth     False  F/0/S  TRAPPIST-1e  24.0  False   \n",
       "2     0003_01     Europa     False  A/0/S  TRAPPIST-1e  58.0   True   \n",
       "3     0003_02     Europa     False  A/0/S  TRAPPIST-1e  33.0  False   \n",
       "4     0004_01      Earth     False  F/1/S  TRAPPIST-1e  16.0  False   \n",
       "\n",
       "   RoomService  FoodCourt  ShoppingMall     Spa  VRDeck               Name  \\\n",
       "0          0.0        0.0           0.0     0.0     0.0    Maham Ofracculy   \n",
       "1        109.0        9.0          25.0   549.0    44.0       Juanna Vines   \n",
       "2         43.0     3576.0           0.0  6715.0    49.0      Altark Susent   \n",
       "3          0.0     1283.0         371.0  3329.0   193.0       Solam Susent   \n",
       "4        303.0       70.0         151.0   565.0     2.0  Willy Santantines   \n",
       "\n",
       "   Transported  \n",
       "0        False  \n",
       "1         True  \n",
       "2        False  \n",
       "3        False  \n",
       "4         True  "
      ]
     },
     "execution_count": 5,
     "metadata": {},
     "output_type": "execute_result"
    }
   ],
   "source": [
    "train.head()"
   ]
  },
  {
   "cell_type": "code",
   "execution_count": 6,
   "id": "63ca0fd2",
   "metadata": {},
   "outputs": [
    {
     "data": {
      "text/html": [
       "<div>\n",
       "<style scoped>\n",
       "    .dataframe tbody tr th:only-of-type {\n",
       "        vertical-align: middle;\n",
       "    }\n",
       "\n",
       "    .dataframe tbody tr th {\n",
       "        vertical-align: top;\n",
       "    }\n",
       "\n",
       "    .dataframe thead th {\n",
       "        text-align: right;\n",
       "    }\n",
       "</style>\n",
       "<table border=\"1\" class=\"dataframe\">\n",
       "  <thead>\n",
       "    <tr style=\"text-align: right;\">\n",
       "      <th></th>\n",
       "      <th>PassengerId</th>\n",
       "      <th>HomePlanet</th>\n",
       "      <th>CryoSleep</th>\n",
       "      <th>Cabin</th>\n",
       "      <th>Destination</th>\n",
       "      <th>Age</th>\n",
       "      <th>VIP</th>\n",
       "      <th>RoomService</th>\n",
       "      <th>FoodCourt</th>\n",
       "      <th>ShoppingMall</th>\n",
       "      <th>Spa</th>\n",
       "      <th>VRDeck</th>\n",
       "      <th>Name</th>\n",
       "    </tr>\n",
       "  </thead>\n",
       "  <tbody>\n",
       "    <tr>\n",
       "      <th>0</th>\n",
       "      <td>0013_01</td>\n",
       "      <td>Earth</td>\n",
       "      <td>True</td>\n",
       "      <td>G/3/S</td>\n",
       "      <td>TRAPPIST-1e</td>\n",
       "      <td>27.0</td>\n",
       "      <td>False</td>\n",
       "      <td>0.0</td>\n",
       "      <td>0.0</td>\n",
       "      <td>0.0</td>\n",
       "      <td>0.0</td>\n",
       "      <td>0.0</td>\n",
       "      <td>Nelly Carsoning</td>\n",
       "    </tr>\n",
       "    <tr>\n",
       "      <th>1</th>\n",
       "      <td>0018_01</td>\n",
       "      <td>Earth</td>\n",
       "      <td>False</td>\n",
       "      <td>F/4/S</td>\n",
       "      <td>TRAPPIST-1e</td>\n",
       "      <td>19.0</td>\n",
       "      <td>False</td>\n",
       "      <td>0.0</td>\n",
       "      <td>9.0</td>\n",
       "      <td>0.0</td>\n",
       "      <td>2823.0</td>\n",
       "      <td>0.0</td>\n",
       "      <td>Lerome Peckers</td>\n",
       "    </tr>\n",
       "    <tr>\n",
       "      <th>2</th>\n",
       "      <td>0019_01</td>\n",
       "      <td>Europa</td>\n",
       "      <td>True</td>\n",
       "      <td>C/0/S</td>\n",
       "      <td>55 Cancri e</td>\n",
       "      <td>31.0</td>\n",
       "      <td>False</td>\n",
       "      <td>0.0</td>\n",
       "      <td>0.0</td>\n",
       "      <td>0.0</td>\n",
       "      <td>0.0</td>\n",
       "      <td>0.0</td>\n",
       "      <td>Sabih Unhearfus</td>\n",
       "    </tr>\n",
       "    <tr>\n",
       "      <th>3</th>\n",
       "      <td>0021_01</td>\n",
       "      <td>Europa</td>\n",
       "      <td>False</td>\n",
       "      <td>C/1/S</td>\n",
       "      <td>TRAPPIST-1e</td>\n",
       "      <td>38.0</td>\n",
       "      <td>False</td>\n",
       "      <td>0.0</td>\n",
       "      <td>6652.0</td>\n",
       "      <td>0.0</td>\n",
       "      <td>181.0</td>\n",
       "      <td>585.0</td>\n",
       "      <td>Meratz Caltilter</td>\n",
       "    </tr>\n",
       "    <tr>\n",
       "      <th>4</th>\n",
       "      <td>0023_01</td>\n",
       "      <td>Earth</td>\n",
       "      <td>False</td>\n",
       "      <td>F/5/S</td>\n",
       "      <td>TRAPPIST-1e</td>\n",
       "      <td>20.0</td>\n",
       "      <td>False</td>\n",
       "      <td>10.0</td>\n",
       "      <td>0.0</td>\n",
       "      <td>635.0</td>\n",
       "      <td>0.0</td>\n",
       "      <td>0.0</td>\n",
       "      <td>Brence Harperez</td>\n",
       "    </tr>\n",
       "  </tbody>\n",
       "</table>\n",
       "</div>"
      ],
      "text/plain": [
       "  PassengerId HomePlanet CryoSleep  Cabin  Destination   Age    VIP  \\\n",
       "0     0013_01      Earth      True  G/3/S  TRAPPIST-1e  27.0  False   \n",
       "1     0018_01      Earth     False  F/4/S  TRAPPIST-1e  19.0  False   \n",
       "2     0019_01     Europa      True  C/0/S  55 Cancri e  31.0  False   \n",
       "3     0021_01     Europa     False  C/1/S  TRAPPIST-1e  38.0  False   \n",
       "4     0023_01      Earth     False  F/5/S  TRAPPIST-1e  20.0  False   \n",
       "\n",
       "   RoomService  FoodCourt  ShoppingMall     Spa  VRDeck              Name  \n",
       "0          0.0        0.0           0.0     0.0     0.0   Nelly Carsoning  \n",
       "1          0.0        9.0           0.0  2823.0     0.0    Lerome Peckers  \n",
       "2          0.0        0.0           0.0     0.0     0.0   Sabih Unhearfus  \n",
       "3          0.0     6652.0           0.0   181.0   585.0  Meratz Caltilter  \n",
       "4         10.0        0.0         635.0     0.0     0.0   Brence Harperez  "
      ]
     },
     "execution_count": 6,
     "metadata": {},
     "output_type": "execute_result"
    }
   ],
   "source": [
    "test.head()"
   ]
  },
  {
   "cell_type": "code",
   "execution_count": 7,
   "id": "3eaaff9e",
   "metadata": {},
   "outputs": [
    {
     "name": "stdout",
     "output_type": "stream",
     "text": [
      "<class 'pandas.core.frame.DataFrame'>\n",
      "RangeIndex: 8693 entries, 0 to 8692\n",
      "Data columns (total 14 columns):\n",
      " #   Column        Non-Null Count  Dtype  \n",
      "---  ------        --------------  -----  \n",
      " 0   PassengerId   8693 non-null   object \n",
      " 1   HomePlanet    8492 non-null   object \n",
      " 2   CryoSleep     8476 non-null   object \n",
      " 3   Cabin         8494 non-null   object \n",
      " 4   Destination   8511 non-null   object \n",
      " 5   Age           8514 non-null   float64\n",
      " 6   VIP           8490 non-null   object \n",
      " 7   RoomService   8512 non-null   float64\n",
      " 8   FoodCourt     8510 non-null   float64\n",
      " 9   ShoppingMall  8485 non-null   float64\n",
      " 10  Spa           8510 non-null   float64\n",
      " 11  VRDeck        8505 non-null   float64\n",
      " 12  Name          8493 non-null   object \n",
      " 13  Transported   8693 non-null   bool   \n",
      "dtypes: bool(1), float64(6), object(7)\n",
      "memory usage: 891.5+ KB\n"
     ]
    }
   ],
   "source": [
    "train.info()"
   ]
  },
  {
   "cell_type": "code",
   "execution_count": 8,
   "id": "50cab061",
   "metadata": {},
   "outputs": [
    {
     "data": {
      "text/plain": [
       "PassengerId       0\n",
       "HomePlanet      201\n",
       "CryoSleep       217\n",
       "Cabin           199\n",
       "Destination     182\n",
       "Age             179\n",
       "VIP             203\n",
       "RoomService     181\n",
       "FoodCourt       183\n",
       "ShoppingMall    208\n",
       "Spa             183\n",
       "VRDeck          188\n",
       "Name            200\n",
       "Transported       0\n",
       "dtype: int64"
      ]
     },
     "execution_count": 8,
     "metadata": {},
     "output_type": "execute_result"
    }
   ],
   "source": [
    "train.isnull().sum()"
   ]
  },
  {
   "cell_type": "code",
   "execution_count": 9,
   "id": "361c2386",
   "metadata": {},
   "outputs": [
    {
     "data": {
      "text/html": [
       "<div>\n",
       "<style scoped>\n",
       "    .dataframe tbody tr th:only-of-type {\n",
       "        vertical-align: middle;\n",
       "    }\n",
       "\n",
       "    .dataframe tbody tr th {\n",
       "        vertical-align: top;\n",
       "    }\n",
       "\n",
       "    .dataframe thead th {\n",
       "        text-align: right;\n",
       "    }\n",
       "</style>\n",
       "<table border=\"1\" class=\"dataframe\">\n",
       "  <thead>\n",
       "    <tr style=\"text-align: right;\">\n",
       "      <th></th>\n",
       "      <th>Age</th>\n",
       "      <th>RoomService</th>\n",
       "      <th>FoodCourt</th>\n",
       "      <th>ShoppingMall</th>\n",
       "      <th>Spa</th>\n",
       "      <th>VRDeck</th>\n",
       "    </tr>\n",
       "  </thead>\n",
       "  <tbody>\n",
       "    <tr>\n",
       "      <th>count</th>\n",
       "      <td>8514.000000</td>\n",
       "      <td>8512.000000</td>\n",
       "      <td>8510.000000</td>\n",
       "      <td>8485.000000</td>\n",
       "      <td>8510.000000</td>\n",
       "      <td>8505.000000</td>\n",
       "    </tr>\n",
       "    <tr>\n",
       "      <th>mean</th>\n",
       "      <td>28.827930</td>\n",
       "      <td>224.687617</td>\n",
       "      <td>458.077203</td>\n",
       "      <td>173.729169</td>\n",
       "      <td>311.138778</td>\n",
       "      <td>304.854791</td>\n",
       "    </tr>\n",
       "    <tr>\n",
       "      <th>std</th>\n",
       "      <td>14.489021</td>\n",
       "      <td>666.717663</td>\n",
       "      <td>1611.489240</td>\n",
       "      <td>604.696458</td>\n",
       "      <td>1136.705535</td>\n",
       "      <td>1145.717189</td>\n",
       "    </tr>\n",
       "    <tr>\n",
       "      <th>min</th>\n",
       "      <td>0.000000</td>\n",
       "      <td>0.000000</td>\n",
       "      <td>0.000000</td>\n",
       "      <td>0.000000</td>\n",
       "      <td>0.000000</td>\n",
       "      <td>0.000000</td>\n",
       "    </tr>\n",
       "    <tr>\n",
       "      <th>25%</th>\n",
       "      <td>19.000000</td>\n",
       "      <td>0.000000</td>\n",
       "      <td>0.000000</td>\n",
       "      <td>0.000000</td>\n",
       "      <td>0.000000</td>\n",
       "      <td>0.000000</td>\n",
       "    </tr>\n",
       "    <tr>\n",
       "      <th>50%</th>\n",
       "      <td>27.000000</td>\n",
       "      <td>0.000000</td>\n",
       "      <td>0.000000</td>\n",
       "      <td>0.000000</td>\n",
       "      <td>0.000000</td>\n",
       "      <td>0.000000</td>\n",
       "    </tr>\n",
       "    <tr>\n",
       "      <th>75%</th>\n",
       "      <td>38.000000</td>\n",
       "      <td>47.000000</td>\n",
       "      <td>76.000000</td>\n",
       "      <td>27.000000</td>\n",
       "      <td>59.000000</td>\n",
       "      <td>46.000000</td>\n",
       "    </tr>\n",
       "    <tr>\n",
       "      <th>max</th>\n",
       "      <td>79.000000</td>\n",
       "      <td>14327.000000</td>\n",
       "      <td>29813.000000</td>\n",
       "      <td>23492.000000</td>\n",
       "      <td>22408.000000</td>\n",
       "      <td>24133.000000</td>\n",
       "    </tr>\n",
       "  </tbody>\n",
       "</table>\n",
       "</div>"
      ],
      "text/plain": [
       "               Age   RoomService     FoodCourt  ShoppingMall           Spa  \\\n",
       "count  8514.000000   8512.000000   8510.000000   8485.000000   8510.000000   \n",
       "mean     28.827930    224.687617    458.077203    173.729169    311.138778   \n",
       "std      14.489021    666.717663   1611.489240    604.696458   1136.705535   \n",
       "min       0.000000      0.000000      0.000000      0.000000      0.000000   \n",
       "25%      19.000000      0.000000      0.000000      0.000000      0.000000   \n",
       "50%      27.000000      0.000000      0.000000      0.000000      0.000000   \n",
       "75%      38.000000     47.000000     76.000000     27.000000     59.000000   \n",
       "max      79.000000  14327.000000  29813.000000  23492.000000  22408.000000   \n",
       "\n",
       "             VRDeck  \n",
       "count   8505.000000  \n",
       "mean     304.854791  \n",
       "std     1145.717189  \n",
       "min        0.000000  \n",
       "25%        0.000000  \n",
       "50%        0.000000  \n",
       "75%       46.000000  \n",
       "max    24133.000000  "
      ]
     },
     "execution_count": 9,
     "metadata": {},
     "output_type": "execute_result"
    }
   ],
   "source": [
    "train.describe()"
   ]
  },
  {
   "cell_type": "markdown",
   "id": "ec216ad8",
   "metadata": {},
   "source": [
    "## This Code Checks for No. of Passengers Transported Vs Not Transported And also Checks for duplicate value in the Dataset"
   ]
  },
  {
   "cell_type": "code",
   "execution_count": 10,
   "id": "cdab37be",
   "metadata": {},
   "outputs": [
    {
     "name": "stdout",
     "output_type": "stream",
     "text": [
      "No. of duplicated values at the the whole dataset is:  0\n"
     ]
    },
    {
     "data": {
      "text/plain": [
       "True     4378\n",
       "False    4315\n",
       "Name: Transported, dtype: int64"
      ]
     },
     "execution_count": 10,
     "metadata": {},
     "output_type": "execute_result"
    }
   ],
   "source": [
    "print('No. of duplicated values at the the whole dataset is: ',train.duplicated().sum())\n",
    "train['Transported'].value_counts()"
   ]
  },
  {
   "cell_type": "markdown",
   "id": "4dce82c5",
   "metadata": {},
   "source": [
    "### We can therefore deduce that our dataset has no duplicate value and approximately equal ratio of No. of passengers Transported as against not Transported"
   ]
  },
  {
   "cell_type": "markdown",
   "id": "cdf1701c",
   "metadata": {},
   "source": [
    "## STEP3: EXPLORATORY DATA ANALYSIS (EDA) \n",
    "## The analysis is done on the feature dataset to get more insight on the relationship with the target variable \n"
   ]
  },
  {
   "cell_type": "markdown",
   "id": "4fabc0c4",
   "metadata": {},
   "source": [
    "## Analysis on PassengerId Column"
   ]
  },
  {
   "cell_type": "code",
   "execution_count": 11,
   "id": "e2b2e3bb",
   "metadata": {},
   "outputs": [
    {
     "data": {
      "image/png": "[encoded data removed]",
      "text/plain": [
       "<Figure size 864x504 with 2 Axes>"
      ]
     },
     "metadata": {
      "needs_background": "light"
     },
     "output_type": "display_data"
    }
   ],
   "source": [
    "train[['Group','Member']] = train['PassengerId'].str.split('_',expand=True) #This code split PassengerId to Group, Member\n",
    "\n",
    "x = train.groupby('Group')['Member'].count().sort_values(ascending=False)   #This code count members at each group\n",
    "\n",
    "train['is_alone'] = train['Group'].apply(lambda y: y not in set(x[x>1].index))  #create new column for groups that have member > 1\n",
    "\n",
    "train['No_members_in_group'] = 0      #This code create new column for number of members in each group\n",
    "for i in x.items():\n",
    "    train.loc[train['Group'] == i[0],'No_members_in_group'] = i[1]\n",
    "    \n",
    "plt.figure(figsize=[12,7])\n",
    "\n",
    "plt.subplot(1,2,1)\n",
    "sns.countplot(data=train, x= 'No_members_in_group',hue='Transported')\n",
    "plt.title('No_members_in_group vs. Transported')\n",
    "\n",
    "plt.subplot(1,2,2)\n",
    "sns.countplot(data=train, x= 'is_alone',hue='Transported') \n",
    "plt.title('is_alone vs. Transported')\n",
    "\n",
    "plt.show()"
   ]
  },
  {
   "cell_type": "markdown",
   "id": "4bb80939",
   "metadata": {},
   "source": [
    "### Deduction from the Plot above: This shows that of the passengers are travelling single as against in group"
   ]
  },
  {
   "cell_type": "markdown",
   "id": "ccd0ec2c",
   "metadata": {},
   "source": [
    "## Analysis on Name Column "
   ]
  },
  {
   "cell_type": "code",
   "execution_count": 12,
   "id": "40be271c",
   "metadata": {},
   "outputs": [
    {
     "data": {
      "image/png": "[encoded data removed]",
      "text/plain": [
       "<Figure size 1296x1296 with 6 Axes>"
      ]
     },
     "metadata": {
      "needs_background": "light"
     },
     "output_type": "display_data"
    }
   ],
   "source": [
    "train['surname'] = train['Name'].str.split(' ',expand=True)[1]\n",
    "df_surname_grouped = train.groupby(['surname','Transported'])['PassengerId'].count()\n",
    "df_surname_grouped = df_surname_grouped.reset_index()\n",
    "df_surname_grouped.rename({'surname':'Family Name','PassengerId':'Count of Passengers'},axis=1,inplace=True)\n",
    "\n",
    "\n",
    "plt.figure(figsize=[18,18])\n",
    "j=1\n",
    "for i in np.random.randint(0,df_surname_grouped.shape[0],6):\n",
    "    plt.subplot(3,3,j)\n",
    "    if df_surname_grouped.iloc[i,1] == False:\n",
    "        sns.barplot(data=df_surname_grouped[i:i+10],x='Family Name',y='Count of Passengers',hue='Transported')\n",
    "        plt.xlabel('Samples from Families')\n",
    "        plt.xticks(color='b')\n",
    "    else:\n",
    "        sns.barplot(data=df_surname_grouped[i+1:i+11],x='Family Name',y='Count of Passengers',hue='Transported')\n",
    "        plt.xlabel('Samples from Families')\n",
    "        plt.xticks(color='b')\n",
    "    \n",
    "    j+=1    \n",
    "plt.show()"
   ]
  },
  {
   "cell_type": "markdown",
   "id": "87ba448d",
   "metadata": {},
   "source": [
    "### Deduction From The Plot above: The Number of family member (increase) does not indicate an increased chance of being Transported"
   ]
  },
  {
   "cell_type": "markdown",
   "id": "a976926e",
   "metadata": {},
   "source": [
    "## Checking for Relationship between HomePlanet, CryoSleep, Destination, & VIP Columns with the Target Column"
   ]
  },
  {
   "cell_type": "code",
   "execution_count": 13,
   "id": "66ec3c39",
   "metadata": {},
   "outputs": [
    {
     "data": {
      "image/png": "[encoded data removed]",
      "text/plain": [
       "<Figure size 1008x1008 with 4 Axes>"
      ]
     },
     "metadata": {
      "needs_background": "light"
     },
     "output_type": "display_data"
    }
   ],
   "source": [
    "plt.figure(figsize=[14,14])\n",
    "plt.subplot(2,2,1)\n",
    "sns.countplot(data=train,x='HomePlanet',hue='Transported')\n",
    "plt.title('HomePlanet vs. Transported Compared')\n",
    "\n",
    "plt.subplot(2,2,2)\n",
    "sns.countplot(data=train,x='CryoSleep',hue='Transported')\n",
    "plt.title('CryoSleep vs. Transported Compared')\n",
    "\n",
    "plt.subplot(2,2,3)\n",
    "sns.countplot(data=train,x='Destination',hue='Transported')\n",
    "plt.title('Destination vs. Transported Compared')\n",
    "\n",
    "plt.subplot(2,2,4)\n",
    "sns.countplot(data=train,x='VIP',hue='Transported')\n",
    "plt.title('VIP vs. Transported Compared')\n",
    "\n",
    "plt.subplots_adjust(left=0.6,right=1.5,wspace=0.5,hspace=0.4)\n",
    "plt.show()"
   ]
  },
  {
   "cell_type": "markdown",
   "id": "8643a166",
   "metadata": {},
   "source": [
    "### Deduction from the Plot above: 1. Most of the passengers in suspended animation(cryosleep) has high chance of being transported   2. A good number of the passengers were from Earth        3.TRAPPIST-Ie were most of the passengers destination      4. No clear difference between the ratio of VIP Passengers Transported as against those that are not "
   ]
  },
  {
   "cell_type": "markdown",
   "id": "b1c444f9",
   "metadata": {},
   "source": [
    "## Number Count of Passengers 'Transported' as against 'Not Transported' "
   ]
  },
  {
   "cell_type": "code",
   "execution_count": 14,
   "id": "3349f1be",
   "metadata": {},
   "outputs": [
    {
     "data": {
      "image/png": "[encoded data removed]",
      "text/plain": [
       "<Figure size 720x720 with 1 Axes>"
      ]
     },
     "metadata": {
      "needs_background": "light"
     },
     "output_type": "display_data"
    }
   ],
   "source": [
    "fig, ax = plt.subplots(figsize=(10, 10))\n",
    "\n",
    "sns.barplot(\n",
    "    x= train[\"Transported\"].value_counts().index, y=train[\"Transported\"].value_counts(), \n",
    "    data=train\n",
    ")\n",
    "\n",
    "ax.set_xticklabels(['Not Transported', 'Transported'])\n",
    "ax.set_ylabel(\"Frequency Count\")\n",
    "ax.set_title(\"Count of People Transported\", fontsize=18)\n",
    "\n",
    "for bar in ax.patches:\n",
    "    label_x = bar.get_x() + bar.get_width() / 2\n",
    "    label_y = bar.get_y() + bar.get_height() / 2\n",
    "\n",
    "    ax.text(\n",
    "        label_x, label_y, \n",
    "        str(int(bar.get_height())) + '(' +\n",
    "        '{:.0%}'.format(bar.get_height() / len(train.Transported)) + ')',\n",
    "        horizontalalignment='center', verticalalignment='center', color='black'\n",
    "    )"
   ]
  },
  {
   "cell_type": "markdown",
   "id": "5d6f76f5",
   "metadata": {},
   "source": [
    "## Analysis on Cabin Column"
   ]
  },
  {
   "cell_type": "code",
   "execution_count": 15,
   "id": "187a7476",
   "metadata": {},
   "outputs": [
    {
     "data": {
      "image/png": "[encoded data removed]",
      "text/plain": [
       "<Figure size 1008x648 with 2 Axes>"
      ]
     },
     "metadata": {
      "needs_background": "light"
     },
     "output_type": "display_data"
    }
   ],
   "source": [
    "train[[\"Cabin_deck\",\"Cabin_no.\",\"Cabin_side\"]]=train[\"Cabin\"].str.split(\"/\",expand=True)\n",
    "\n",
    "plt.figure(figsize=[14,9])\n",
    "\n",
    "plt.subplot(1,2,1)\n",
    "\n",
    "sns.countplot(data=train,x='Cabin_deck',hue='Transported',order=['A','B','C','D','E','F','G','H'])\n",
    "\n",
    "plt.subplot(1,2,2)\n",
    "\n",
    "sns.countplot(data=train,x='Cabin_side',hue='Transported')\n",
    "plt.show()"
   ]
  },
  {
   "cell_type": "markdown",
   "id": "c67168f6",
   "metadata": {},
   "source": [
    "### Deduction from the Plot above: 1. Most of the passengers were sitting in cabin_deck F & G                                2. Number of passengers not Transported at cabin_deck (D,E,F) is greater than Transported ones at the same decks espicially who were setting at Cabinet Side P--- Decks (D,E,F) which indicate that Side P seem to be the most dangerous decks/side"
   ]
  },
  {
   "cell_type": "markdown",
   "id": "3e139be6",
   "metadata": {},
   "source": [
    "## Analysis on Age Column"
   ]
  },
  {
   "cell_type": "code",
   "execution_count": 16,
   "id": "47e2a26d",
   "metadata": {},
   "outputs": [
    {
     "data": {
      "image/png": "[encoded data removed]",
      "text/plain": [
       "<Figure size 1080x648 with 1 Axes>"
      ]
     },
     "metadata": {
      "needs_background": "light"
     },
     "output_type": "display_data"
    }
   ],
   "source": [
    "plt.figure(figsize=[15,9])\n",
    "sns.histplot(data=train,x='Age',hue='Transported',kde=True)\n",
    "plt.show()"
   ]
  },
  {
   "cell_type": "markdown",
   "id": "928323e7",
   "metadata": {},
   "source": [
    "### Deductions from the Plot above: 1. Most of the passengers were betwwen the age range 18 - 32.   2. For ages > 40, the number of Transported passengers are almost the same  as of not Tranported ones."
   ]
  },
  {
   "cell_type": "markdown",
   "id": "c51d9d6a",
   "metadata": {},
   "source": [
    "## STEP4: Handling (Filling) Missing Data"
   ]
  },
  {
   "cell_type": "code",
   "execution_count": 17,
   "id": "f99d4f28",
   "metadata": {},
   "outputs": [
    {
     "data": {
      "text/html": [
       "<div>\n",
       "<style scoped>\n",
       "    .dataframe tbody tr th:only-of-type {\n",
       "        vertical-align: middle;\n",
       "    }\n",
       "\n",
       "    .dataframe tbody tr th {\n",
       "        vertical-align: top;\n",
       "    }\n",
       "\n",
       "    .dataframe thead th {\n",
       "        text-align: right;\n",
       "    }\n",
       "</style>\n",
       "<table border=\"1\" class=\"dataframe\">\n",
       "  <thead>\n",
       "    <tr style=\"text-align: right;\">\n",
       "      <th></th>\n",
       "      <th>PassengerId</th>\n",
       "      <th>HomePlanet</th>\n",
       "      <th>CryoSleep</th>\n",
       "      <th>Cabin</th>\n",
       "      <th>Destination</th>\n",
       "      <th>Age</th>\n",
       "      <th>VIP</th>\n",
       "      <th>RoomService</th>\n",
       "      <th>FoodCourt</th>\n",
       "      <th>ShoppingMall</th>\n",
       "      <th>...</th>\n",
       "      <th>Name</th>\n",
       "      <th>Transported</th>\n",
       "      <th>Group</th>\n",
       "      <th>Member</th>\n",
       "      <th>is_alone</th>\n",
       "      <th>No_members_in_group</th>\n",
       "      <th>surname</th>\n",
       "      <th>Cabin_deck</th>\n",
       "      <th>Cabin_no.</th>\n",
       "      <th>Cabin_side</th>\n",
       "    </tr>\n",
       "  </thead>\n",
       "  <tbody>\n",
       "    <tr>\n",
       "      <th>0</th>\n",
       "      <td>0001_01</td>\n",
       "      <td>Europa</td>\n",
       "      <td>False</td>\n",
       "      <td>B/0/P</td>\n",
       "      <td>TRAPPIST-1e</td>\n",
       "      <td>39.0</td>\n",
       "      <td>False</td>\n",
       "      <td>0.0</td>\n",
       "      <td>0.0</td>\n",
       "      <td>0.0</td>\n",
       "      <td>...</td>\n",
       "      <td>Maham Ofracculy</td>\n",
       "      <td>False</td>\n",
       "      <td>0001</td>\n",
       "      <td>01</td>\n",
       "      <td>True</td>\n",
       "      <td>1</td>\n",
       "      <td>Ofracculy</td>\n",
       "      <td>B</td>\n",
       "      <td>0</td>\n",
       "      <td>P</td>\n",
       "    </tr>\n",
       "    <tr>\n",
       "      <th>1</th>\n",
       "      <td>0002_01</td>\n",
       "      <td>Earth</td>\n",
       "      <td>False</td>\n",
       "      <td>F/0/S</td>\n",
       "      <td>TRAPPIST-1e</td>\n",
       "      <td>24.0</td>\n",
       "      <td>False</td>\n",
       "      <td>109.0</td>\n",
       "      <td>9.0</td>\n",
       "      <td>25.0</td>\n",
       "      <td>...</td>\n",
       "      <td>Juanna Vines</td>\n",
       "      <td>True</td>\n",
       "      <td>0002</td>\n",
       "      <td>01</td>\n",
       "      <td>True</td>\n",
       "      <td>1</td>\n",
       "      <td>Vines</td>\n",
       "      <td>F</td>\n",
       "      <td>0</td>\n",
       "      <td>S</td>\n",
       "    </tr>\n",
       "    <tr>\n",
       "      <th>2</th>\n",
       "      <td>0003_01</td>\n",
       "      <td>Europa</td>\n",
       "      <td>False</td>\n",
       "      <td>A/0/S</td>\n",
       "      <td>TRAPPIST-1e</td>\n",
       "      <td>58.0</td>\n",
       "      <td>True</td>\n",
       "      <td>43.0</td>\n",
       "      <td>3576.0</td>\n",
       "      <td>0.0</td>\n",
       "      <td>...</td>\n",
       "      <td>Altark Susent</td>\n",
       "      <td>False</td>\n",
       "      <td>0003</td>\n",
       "      <td>01</td>\n",
       "      <td>False</td>\n",
       "      <td>2</td>\n",
       "      <td>Susent</td>\n",
       "      <td>A</td>\n",
       "      <td>0</td>\n",
       "      <td>S</td>\n",
       "    </tr>\n",
       "    <tr>\n",
       "      <th>3</th>\n",
       "      <td>0003_02</td>\n",
       "      <td>Europa</td>\n",
       "      <td>False</td>\n",
       "      <td>A/0/S</td>\n",
       "      <td>TRAPPIST-1e</td>\n",
       "      <td>33.0</td>\n",
       "      <td>False</td>\n",
       "      <td>0.0</td>\n",
       "      <td>1283.0</td>\n",
       "      <td>371.0</td>\n",
       "      <td>...</td>\n",
       "      <td>Solam Susent</td>\n",
       "      <td>False</td>\n",
       "      <td>0003</td>\n",
       "      <td>02</td>\n",
       "      <td>False</td>\n",
       "      <td>2</td>\n",
       "      <td>Susent</td>\n",
       "      <td>A</td>\n",
       "      <td>0</td>\n",
       "      <td>S</td>\n",
       "    </tr>\n",
       "    <tr>\n",
       "      <th>4</th>\n",
       "      <td>0004_01</td>\n",
       "      <td>Earth</td>\n",
       "      <td>False</td>\n",
       "      <td>F/1/S</td>\n",
       "      <td>TRAPPIST-1e</td>\n",
       "      <td>16.0</td>\n",
       "      <td>False</td>\n",
       "      <td>303.0</td>\n",
       "      <td>70.0</td>\n",
       "      <td>151.0</td>\n",
       "      <td>...</td>\n",
       "      <td>Willy Santantines</td>\n",
       "      <td>True</td>\n",
       "      <td>0004</td>\n",
       "      <td>01</td>\n",
       "      <td>True</td>\n",
       "      <td>1</td>\n",
       "      <td>Santantines</td>\n",
       "      <td>F</td>\n",
       "      <td>1</td>\n",
       "      <td>S</td>\n",
       "    </tr>\n",
       "  </tbody>\n",
       "</table>\n",
       "<p>5 rows × 22 columns</p>\n",
       "</div>"
      ],
      "text/plain": [
       "  PassengerId HomePlanet CryoSleep  Cabin  Destination   Age    VIP  \\\n",
       "0     0001_01     Europa     False  B/0/P  TRAPPIST-1e  39.0  False   \n",
       "1     0002_01      Earth     False  F/0/S  TRAPPIST-1e  24.0  False   \n",
       "2     0003_01     Europa     False  A/0/S  TRAPPIST-1e  58.0   True   \n",
       "3     0003_02     Europa     False  A/0/S  TRAPPIST-1e  33.0  False   \n",
       "4     0004_01      Earth     False  F/1/S  TRAPPIST-1e  16.0  False   \n",
       "\n",
       "   RoomService  FoodCourt  ShoppingMall  ...               Name  Transported  \\\n",
       "0          0.0        0.0           0.0  ...    Maham Ofracculy        False   \n",
       "1        109.0        9.0          25.0  ...       Juanna Vines         True   \n",
       "2         43.0     3576.0           0.0  ...      Altark Susent        False   \n",
       "3          0.0     1283.0         371.0  ...       Solam Susent        False   \n",
       "4        303.0       70.0         151.0  ...  Willy Santantines         True   \n",
       "\n",
       "  Group  Member is_alone No_members_in_group      surname  Cabin_deck  \\\n",
       "0  0001      01     True                   1    Ofracculy           B   \n",
       "1  0002      01     True                   1        Vines           F   \n",
       "2  0003      01    False                   2       Susent           A   \n",
       "3  0003      02    False                   2       Susent           A   \n",
       "4  0004      01     True                   1  Santantines           F   \n",
       "\n",
       "  Cabin_no. Cabin_side  \n",
       "0         0          P  \n",
       "1         0          S  \n",
       "2         0          S  \n",
       "3         0          S  \n",
       "4         1          S  \n",
       "\n",
       "[5 rows x 22 columns]"
      ]
     },
     "execution_count": 17,
     "metadata": {},
     "output_type": "execute_result"
    }
   ],
   "source": [
    "train.head()"
   ]
  },
  {
   "cell_type": "code",
   "execution_count": 18,
   "id": "0510d468",
   "metadata": {},
   "outputs": [
    {
     "data": {
      "text/plain": [
       "PassengerId              0\n",
       "HomePlanet             201\n",
       "CryoSleep              217\n",
       "Cabin                  199\n",
       "Destination            182\n",
       "Age                    179\n",
       "VIP                    203\n",
       "RoomService            181\n",
       "FoodCourt              183\n",
       "ShoppingMall           208\n",
       "Spa                    183\n",
       "VRDeck                 188\n",
       "Name                   200\n",
       "Transported              0\n",
       "Group                    0\n",
       "Member                   0\n",
       "is_alone                 0\n",
       "No_members_in_group      0\n",
       "surname                200\n",
       "Cabin_deck             199\n",
       "Cabin_no.              199\n",
       "Cabin_side             199\n",
       "dtype: int64"
      ]
     },
     "execution_count": 18,
     "metadata": {},
     "output_type": "execute_result"
    }
   ],
   "source": [
    "train.isnull().sum()"
   ]
  },
  {
   "cell_type": "markdown",
   "id": "56c3184c",
   "metadata": {},
   "source": [
    "### The numerical columns with missing values will be filled with the MEDIAN value while the categorical column filled with the MODE"
   ]
  },
  {
   "cell_type": "code",
   "execution_count": 19,
   "id": "78d08a98",
   "metadata": {},
   "outputs": [
    {
     "data": {
      "text/plain": [
       "PassengerId            False\n",
       "HomePlanet             False\n",
       "CryoSleep              False\n",
       "Cabin                  False\n",
       "Destination            False\n",
       "Age                    False\n",
       "VIP                    False\n",
       "RoomService            False\n",
       "FoodCourt              False\n",
       "ShoppingMall           False\n",
       "Spa                    False\n",
       "VRDeck                 False\n",
       "Name                   False\n",
       "Transported            False\n",
       "Group                  False\n",
       "Member                 False\n",
       "is_alone               False\n",
       "No_members_in_group    False\n",
       "surname                False\n",
       "Cabin_deck             False\n",
       "Cabin_no.              False\n",
       "Cabin_side             False\n",
       "dtype: bool"
      ]
     },
     "execution_count": 19,
     "metadata": {},
     "output_type": "execute_result"
    }
   ],
   "source": [
    "numeriacl_cols=['Age','RoomService','FoodCourt', 'ShoppingMall', 'Spa', 'VRDeck']\n",
    "\n",
    "\n",
    "categoriacl_cols=['HomePlanet', 'CryoSleep', 'Destination','VIP', \n",
    "                  'surname','Name','Cabin', 'Cabin_deck', 'Cabin_no.','Cabin_side']\n",
    "\n",
    "def fill_missing(df):\n",
    "    \n",
    "    for ft in categoriacl_cols:\n",
    "        df[ft].fillna(df[ft].mode()[0],inplace=True)\n",
    "        \n",
    "    for ft in numeriacl_cols:\n",
    "        df[ft].fillna(df[ft].median(),inplace=True)\n",
    "        \n",
    "    return df\n",
    "\n",
    "fill_missing(train)\n",
    "train.isna().any()"
   ]
  },
  {
   "cell_type": "code",
   "execution_count": 20,
   "id": "3baa9d52",
   "metadata": {},
   "outputs": [
    {
     "data": {
      "text/plain": [
       "PassengerId            0\n",
       "HomePlanet             0\n",
       "CryoSleep              0\n",
       "Cabin                  0\n",
       "Destination            0\n",
       "Age                    0\n",
       "VIP                    0\n",
       "RoomService            0\n",
       "FoodCourt              0\n",
       "ShoppingMall           0\n",
       "Spa                    0\n",
       "VRDeck                 0\n",
       "Name                   0\n",
       "Transported            0\n",
       "Group                  0\n",
       "Member                 0\n",
       "is_alone               0\n",
       "No_members_in_group    0\n",
       "surname                0\n",
       "Cabin_deck             0\n",
       "Cabin_no.              0\n",
       "Cabin_side             0\n",
       "dtype: int64"
      ]
     },
     "execution_count": 20,
     "metadata": {},
     "output_type": "execute_result"
    }
   ],
   "source": [
    "train.isnull().sum()"
   ]
  },
  {
   "cell_type": "markdown",
   "id": "a4a35e51",
   "metadata": {},
   "source": [
    "## DROPPING 'CABIN_SIDE' COLUMN FROM THE TRAIN DATA"
   ]
  },
  {
   "cell_type": "code",
   "execution_count": 21,
   "id": "cfbc73ad",
   "metadata": {},
   "outputs": [],
   "source": [
    "cols_drop = ['Cabin_side']\n",
    "train = train.drop(cols_drop, axis = 1)"
   ]
  },
  {
   "cell_type": "markdown",
   "id": "723d2ece",
   "metadata": {},
   "source": [
    "## Converting Train Categorical Data To Numerical Data"
   ]
  },
  {
   "cell_type": "code",
   "execution_count": 22,
   "id": "a58b6cd4",
   "metadata": {},
   "outputs": [],
   "source": [
    "train['HomePlanet'] = train['HomePlanet'].astype('category').cat.codes\n",
    "\n",
    "train['CryoSleep'] = train['CryoSleep'].astype('category').cat.codes\n",
    "\n",
    "train['Destination'] = train['Destination'].astype('category').cat.codes\n",
    "\n",
    "train['VIP'] = train['VIP'].astype('category').cat.codes\n",
    "\n",
    "train['Member'] = train['Member'].astype('category').cat.codes\n",
    "\n",
    "train['is_alone'] = train['is_alone'].astype('category').cat.codes\n",
    "\n",
    "train['surname'] = train['surname'].astype('category').cat.codes\n",
    "\n",
    "train['Cabin_deck'] = train['Cabin_deck'].astype('category').cat.codes\n",
    "\n",
    "train['Cabin_no.'] = train['Cabin_no.'].astype('category').cat.codes\n",
    "\n",
    "train['Cabin'] = train['Cabin'].astype('category').cat.codes\n",
    "\n",
    "train['Name'] = train['Name'].astype('category').cat.codes\n",
    "\n",
    "train['Transported'] = train['Transported'].astype('category').cat.codes\n",
    "\n",
    "train['Group'] = train['Group'].astype('category').cat.codes\n",
    "\n",
    "train['PassengerId'] = train['PassengerId'].astype('category').cat.codes\n",
    "\n"
   ]
  },
  {
   "cell_type": "code",
   "execution_count": 23,
   "id": "871c6b68",
   "metadata": {},
   "outputs": [
    {
     "data": {
      "text/html": [
       "<div>\n",
       "<style scoped>\n",
       "    .dataframe tbody tr th:only-of-type {\n",
       "        vertical-align: middle;\n",
       "    }\n",
       "\n",
       "    .dataframe tbody tr th {\n",
       "        vertical-align: top;\n",
       "    }\n",
       "\n",
       "    .dataframe thead th {\n",
       "        text-align: right;\n",
       "    }\n",
       "</style>\n",
       "<table border=\"1\" class=\"dataframe\">\n",
       "  <thead>\n",
       "    <tr style=\"text-align: right;\">\n",
       "      <th></th>\n",
       "      <th>PassengerId</th>\n",
       "      <th>HomePlanet</th>\n",
       "      <th>CryoSleep</th>\n",
       "      <th>Cabin</th>\n",
       "      <th>Destination</th>\n",
       "      <th>Age</th>\n",
       "      <th>VIP</th>\n",
       "      <th>RoomService</th>\n",
       "      <th>FoodCourt</th>\n",
       "      <th>ShoppingMall</th>\n",
       "      <th>...</th>\n",
       "      <th>VRDeck</th>\n",
       "      <th>Name</th>\n",
       "      <th>Transported</th>\n",
       "      <th>Group</th>\n",
       "      <th>Member</th>\n",
       "      <th>is_alone</th>\n",
       "      <th>No_members_in_group</th>\n",
       "      <th>surname</th>\n",
       "      <th>Cabin_deck</th>\n",
       "      <th>Cabin_no.</th>\n",
       "    </tr>\n",
       "  </thead>\n",
       "  <tbody>\n",
       "    <tr>\n",
       "      <th>0</th>\n",
       "      <td>0</td>\n",
       "      <td>1</td>\n",
       "      <td>0</td>\n",
       "      <td>149</td>\n",
       "      <td>2</td>\n",
       "      <td>39.0</td>\n",
       "      <td>0</td>\n",
       "      <td>0.0</td>\n",
       "      <td>0.0</td>\n",
       "      <td>0.0</td>\n",
       "      <td>...</td>\n",
       "      <td>0.0</td>\n",
       "      <td>5252</td>\n",
       "      <td>0</td>\n",
       "      <td>0</td>\n",
       "      <td>0</td>\n",
       "      <td>1</td>\n",
       "      <td>1</td>\n",
       "      <td>1431</td>\n",
       "      <td>1</td>\n",
       "      <td>0</td>\n",
       "    </tr>\n",
       "    <tr>\n",
       "      <th>1</th>\n",
       "      <td>1</td>\n",
       "      <td>0</td>\n",
       "      <td>0</td>\n",
       "      <td>2184</td>\n",
       "      <td>2</td>\n",
       "      <td>24.0</td>\n",
       "      <td>0</td>\n",
       "      <td>109.0</td>\n",
       "      <td>9.0</td>\n",
       "      <td>25.0</td>\n",
       "      <td>...</td>\n",
       "      <td>44.0</td>\n",
       "      <td>4502</td>\n",
       "      <td>1</td>\n",
       "      <td>1</td>\n",
       "      <td>0</td>\n",
       "      <td>1</td>\n",
       "      <td>1</td>\n",
       "      <td>2109</td>\n",
       "      <td>5</td>\n",
       "      <td>0</td>\n",
       "    </tr>\n",
       "    <tr>\n",
       "      <th>2</th>\n",
       "      <td>2</td>\n",
       "      <td>1</td>\n",
       "      <td>0</td>\n",
       "      <td>1</td>\n",
       "      <td>2</td>\n",
       "      <td>58.0</td>\n",
       "      <td>1</td>\n",
       "      <td>43.0</td>\n",
       "      <td>3576.0</td>\n",
       "      <td>0.0</td>\n",
       "      <td>...</td>\n",
       "      <td>49.0</td>\n",
       "      <td>457</td>\n",
       "      <td>0</td>\n",
       "      <td>2</td>\n",
       "      <td>0</td>\n",
       "      <td>0</td>\n",
       "      <td>2</td>\n",
       "      <td>1990</td>\n",
       "      <td>0</td>\n",
       "      <td>0</td>\n",
       "    </tr>\n",
       "    <tr>\n",
       "      <th>3</th>\n",
       "      <td>3</td>\n",
       "      <td>1</td>\n",
       "      <td>0</td>\n",
       "      <td>1</td>\n",
       "      <td>2</td>\n",
       "      <td>33.0</td>\n",
       "      <td>0</td>\n",
       "      <td>0.0</td>\n",
       "      <td>1283.0</td>\n",
       "      <td>371.0</td>\n",
       "      <td>...</td>\n",
       "      <td>193.0</td>\n",
       "      <td>7149</td>\n",
       "      <td>0</td>\n",
       "      <td>2</td>\n",
       "      <td>1</td>\n",
       "      <td>0</td>\n",
       "      <td>2</td>\n",
       "      <td>1990</td>\n",
       "      <td>0</td>\n",
       "      <td>0</td>\n",
       "    </tr>\n",
       "    <tr>\n",
       "      <th>4</th>\n",
       "      <td>4</td>\n",
       "      <td>0</td>\n",
       "      <td>0</td>\n",
       "      <td>2186</td>\n",
       "      <td>2</td>\n",
       "      <td>16.0</td>\n",
       "      <td>0</td>\n",
       "      <td>303.0</td>\n",
       "      <td>70.0</td>\n",
       "      <td>151.0</td>\n",
       "      <td>...</td>\n",
       "      <td>2.0</td>\n",
       "      <td>8319</td>\n",
       "      <td>1</td>\n",
       "      <td>3</td>\n",
       "      <td>0</td>\n",
       "      <td>1</td>\n",
       "      <td>1</td>\n",
       "      <td>1778</td>\n",
       "      <td>5</td>\n",
       "      <td>1</td>\n",
       "    </tr>\n",
       "  </tbody>\n",
       "</table>\n",
       "<p>5 rows × 21 columns</p>\n",
       "</div>"
      ],
      "text/plain": [
       "   PassengerId  HomePlanet  CryoSleep  Cabin  Destination   Age  VIP  \\\n",
       "0            0           1          0    149            2  39.0    0   \n",
       "1            1           0          0   2184            2  24.0    0   \n",
       "2            2           1          0      1            2  58.0    1   \n",
       "3            3           1          0      1            2  33.0    0   \n",
       "4            4           0          0   2186            2  16.0    0   \n",
       "\n",
       "   RoomService  FoodCourt  ShoppingMall  ...  VRDeck  Name  Transported  \\\n",
       "0          0.0        0.0           0.0  ...     0.0  5252            0   \n",
       "1        109.0        9.0          25.0  ...    44.0  4502            1   \n",
       "2         43.0     3576.0           0.0  ...    49.0   457            0   \n",
       "3          0.0     1283.0         371.0  ...   193.0  7149            0   \n",
       "4        303.0       70.0         151.0  ...     2.0  8319            1   \n",
       "\n",
       "   Group  Member  is_alone  No_members_in_group  surname  Cabin_deck  \\\n",
       "0      0       0         1                    1     1431           1   \n",
       "1      1       0         1                    1     2109           5   \n",
       "2      2       0         0                    2     1990           0   \n",
       "3      2       1         0                    2     1990           0   \n",
       "4      3       0         1                    1     1778           5   \n",
       "\n",
       "   Cabin_no.  \n",
       "0          0  \n",
       "1          0  \n",
       "2          0  \n",
       "3          0  \n",
       "4          1  \n",
       "\n",
       "[5 rows x 21 columns]"
      ]
     },
     "execution_count": 23,
     "metadata": {},
     "output_type": "execute_result"
    }
   ],
   "source": [
    "train.head()"
   ]
  },
  {
   "cell_type": "code",
   "execution_count": 24,
   "id": "24e0ecc5",
   "metadata": {},
   "outputs": [
    {
     "name": "stdout",
     "output_type": "stream",
     "text": [
      "<class 'pandas.core.frame.DataFrame'>\n",
      "RangeIndex: 8693 entries, 0 to 8692\n",
      "Data columns (total 21 columns):\n",
      " #   Column               Non-Null Count  Dtype  \n",
      "---  ------               --------------  -----  \n",
      " 0   PassengerId          8693 non-null   int16  \n",
      " 1   HomePlanet           8693 non-null   int8   \n",
      " 2   CryoSleep            8693 non-null   int8   \n",
      " 3   Cabin                8693 non-null   int16  \n",
      " 4   Destination          8693 non-null   int8   \n",
      " 5   Age                  8693 non-null   float64\n",
      " 6   VIP                  8693 non-null   int8   \n",
      " 7   RoomService          8693 non-null   float64\n",
      " 8   FoodCourt            8693 non-null   float64\n",
      " 9   ShoppingMall         8693 non-null   float64\n",
      " 10  Spa                  8693 non-null   float64\n",
      " 11  VRDeck               8693 non-null   float64\n",
      " 12  Name                 8693 non-null   int16  \n",
      " 13  Transported          8693 non-null   int8   \n",
      " 14  Group                8693 non-null   int16  \n",
      " 15  Member               8693 non-null   int8   \n",
      " 16  is_alone             8693 non-null   int8   \n",
      " 17  No_members_in_group  8693 non-null   int64  \n",
      " 18  surname              8693 non-null   int16  \n",
      " 19  Cabin_deck           8693 non-null   int8   \n",
      " 20  Cabin_no.            8693 non-null   int16  \n",
      "dtypes: float64(6), int16(6), int64(1), int8(8)\n",
      "memory usage: 645.3 KB\n"
     ]
    }
   ],
   "source": [
    "train.info()"
   ]
  },
  {
   "cell_type": "markdown",
   "id": "541d87d4",
   "metadata": {},
   "source": [
    "# TEST DATA"
   ]
  },
  {
   "cell_type": "code",
   "execution_count": 25,
   "id": "31a8cd5b",
   "metadata": {},
   "outputs": [
    {
     "data": {
      "text/html": [
       "<div>\n",
       "<style scoped>\n",
       "    .dataframe tbody tr th:only-of-type {\n",
       "        vertical-align: middle;\n",
       "    }\n",
       "\n",
       "    .dataframe tbody tr th {\n",
       "        vertical-align: top;\n",
       "    }\n",
       "\n",
       "    .dataframe thead th {\n",
       "        text-align: right;\n",
       "    }\n",
       "</style>\n",
       "<table border=\"1\" class=\"dataframe\">\n",
       "  <thead>\n",
       "    <tr style=\"text-align: right;\">\n",
       "      <th></th>\n",
       "      <th>PassengerId</th>\n",
       "      <th>HomePlanet</th>\n",
       "      <th>CryoSleep</th>\n",
       "      <th>Cabin</th>\n",
       "      <th>Destination</th>\n",
       "      <th>Age</th>\n",
       "      <th>VIP</th>\n",
       "      <th>RoomService</th>\n",
       "      <th>FoodCourt</th>\n",
       "      <th>ShoppingMall</th>\n",
       "      <th>Spa</th>\n",
       "      <th>VRDeck</th>\n",
       "      <th>Name</th>\n",
       "    </tr>\n",
       "  </thead>\n",
       "  <tbody>\n",
       "    <tr>\n",
       "      <th>0</th>\n",
       "      <td>0013_01</td>\n",
       "      <td>Earth</td>\n",
       "      <td>True</td>\n",
       "      <td>G/3/S</td>\n",
       "      <td>TRAPPIST-1e</td>\n",
       "      <td>27.0</td>\n",
       "      <td>False</td>\n",
       "      <td>0.0</td>\n",
       "      <td>0.0</td>\n",
       "      <td>0.0</td>\n",
       "      <td>0.0</td>\n",
       "      <td>0.0</td>\n",
       "      <td>Nelly Carsoning</td>\n",
       "    </tr>\n",
       "    <tr>\n",
       "      <th>1</th>\n",
       "      <td>0018_01</td>\n",
       "      <td>Earth</td>\n",
       "      <td>False</td>\n",
       "      <td>F/4/S</td>\n",
       "      <td>TRAPPIST-1e</td>\n",
       "      <td>19.0</td>\n",
       "      <td>False</td>\n",
       "      <td>0.0</td>\n",
       "      <td>9.0</td>\n",
       "      <td>0.0</td>\n",
       "      <td>2823.0</td>\n",
       "      <td>0.0</td>\n",
       "      <td>Lerome Peckers</td>\n",
       "    </tr>\n",
       "    <tr>\n",
       "      <th>2</th>\n",
       "      <td>0019_01</td>\n",
       "      <td>Europa</td>\n",
       "      <td>True</td>\n",
       "      <td>C/0/S</td>\n",
       "      <td>55 Cancri e</td>\n",
       "      <td>31.0</td>\n",
       "      <td>False</td>\n",
       "      <td>0.0</td>\n",
       "      <td>0.0</td>\n",
       "      <td>0.0</td>\n",
       "      <td>0.0</td>\n",
       "      <td>0.0</td>\n",
       "      <td>Sabih Unhearfus</td>\n",
       "    </tr>\n",
       "    <tr>\n",
       "      <th>3</th>\n",
       "      <td>0021_01</td>\n",
       "      <td>Europa</td>\n",
       "      <td>False</td>\n",
       "      <td>C/1/S</td>\n",
       "      <td>TRAPPIST-1e</td>\n",
       "      <td>38.0</td>\n",
       "      <td>False</td>\n",
       "      <td>0.0</td>\n",
       "      <td>6652.0</td>\n",
       "      <td>0.0</td>\n",
       "      <td>181.0</td>\n",
       "      <td>585.0</td>\n",
       "      <td>Meratz Caltilter</td>\n",
       "    </tr>\n",
       "    <tr>\n",
       "      <th>4</th>\n",
       "      <td>0023_01</td>\n",
       "      <td>Earth</td>\n",
       "      <td>False</td>\n",
       "      <td>F/5/S</td>\n",
       "      <td>TRAPPIST-1e</td>\n",
       "      <td>20.0</td>\n",
       "      <td>False</td>\n",
       "      <td>10.0</td>\n",
       "      <td>0.0</td>\n",
       "      <td>635.0</td>\n",
       "      <td>0.0</td>\n",
       "      <td>0.0</td>\n",
       "      <td>Brence Harperez</td>\n",
       "    </tr>\n",
       "  </tbody>\n",
       "</table>\n",
       "</div>"
      ],
      "text/plain": [
       "  PassengerId HomePlanet CryoSleep  Cabin  Destination   Age    VIP  \\\n",
       "0     0013_01      Earth      True  G/3/S  TRAPPIST-1e  27.0  False   \n",
       "1     0018_01      Earth     False  F/4/S  TRAPPIST-1e  19.0  False   \n",
       "2     0019_01     Europa      True  C/0/S  55 Cancri e  31.0  False   \n",
       "3     0021_01     Europa     False  C/1/S  TRAPPIST-1e  38.0  False   \n",
       "4     0023_01      Earth     False  F/5/S  TRAPPIST-1e  20.0  False   \n",
       "\n",
       "   RoomService  FoodCourt  ShoppingMall     Spa  VRDeck              Name  \n",
       "0          0.0        0.0           0.0     0.0     0.0   Nelly Carsoning  \n",
       "1          0.0        9.0           0.0  2823.0     0.0    Lerome Peckers  \n",
       "2          0.0        0.0           0.0     0.0     0.0   Sabih Unhearfus  \n",
       "3          0.0     6652.0           0.0   181.0   585.0  Meratz Caltilter  \n",
       "4         10.0        0.0         635.0     0.0     0.0   Brence Harperez  "
      ]
     },
     "execution_count": 25,
     "metadata": {},
     "output_type": "execute_result"
    }
   ],
   "source": [
    "test.head()"
   ]
  },
  {
   "cell_type": "markdown",
   "id": "e284a0b0",
   "metadata": {},
   "source": [
    "## REPLICATING GROUPS CREATED ON THE TRAIN DATA TO THE TEST DATA"
   ]
  },
  {
   "cell_type": "code",
   "execution_count": 26,
   "id": "84f01c4c",
   "metadata": {},
   "outputs": [],
   "source": [
    "test[['Group','Member']] = test['PassengerId'].str.split('_',expand=True) #This code split PassengerId to Group, Member\n",
    "\n",
    "x = test.groupby('Group')['Member'].count().sort_values(ascending=False)   #This code count members at each group\n",
    "\n",
    "test['is_alone'] = test['Group'].apply(lambda y: y not in set(x[x>1].index))  #create new column for groups that have member > 1\n",
    "\n",
    "test['No_members_in_group'] = 0      #This code create new column for number of members in each group\n",
    "for i in x.items():\n",
    "    test.loc[test['Group'] == i[0],'No_members_in_group'] = i[1]"
   ]
  },
  {
   "cell_type": "code",
   "execution_count": 27,
   "id": "18f10896",
   "metadata": {},
   "outputs": [],
   "source": [
    "test['surname'] = test['Name'].str.split(' ',expand=True)[1]\n",
    "df_surname_grouped = test.groupby(['surname'])['PassengerId'].count()\n",
    "df_surname_grouped = df_surname_grouped.reset_index()\n",
    "df_surname_grouped.rename({'surname':'Family Name','PassengerId':'Count of Passengers'},axis=1,inplace=True)\n",
    "\n",
    "\n",
    "test[[\"Cabin_deck\",\"Cabin_no.\",\"Cabin_side\"]]=test[\"Cabin\"].str.split(\"/\",expand=True)\n"
   ]
  },
  {
   "cell_type": "code",
   "execution_count": 28,
   "id": "ca2154cc",
   "metadata": {},
   "outputs": [
    {
     "data": {
      "text/html": [
       "<div>\n",
       "<style scoped>\n",
       "    .dataframe tbody tr th:only-of-type {\n",
       "        vertical-align: middle;\n",
       "    }\n",
       "\n",
       "    .dataframe tbody tr th {\n",
       "        vertical-align: top;\n",
       "    }\n",
       "\n",
       "    .dataframe thead th {\n",
       "        text-align: right;\n",
       "    }\n",
       "</style>\n",
       "<table border=\"1\" class=\"dataframe\">\n",
       "  <thead>\n",
       "    <tr style=\"text-align: right;\">\n",
       "      <th></th>\n",
       "      <th>PassengerId</th>\n",
       "      <th>HomePlanet</th>\n",
       "      <th>CryoSleep</th>\n",
       "      <th>Cabin</th>\n",
       "      <th>Destination</th>\n",
       "      <th>Age</th>\n",
       "      <th>VIP</th>\n",
       "      <th>RoomService</th>\n",
       "      <th>FoodCourt</th>\n",
       "      <th>ShoppingMall</th>\n",
       "      <th>...</th>\n",
       "      <th>VRDeck</th>\n",
       "      <th>Name</th>\n",
       "      <th>Group</th>\n",
       "      <th>Member</th>\n",
       "      <th>is_alone</th>\n",
       "      <th>No_members_in_group</th>\n",
       "      <th>surname</th>\n",
       "      <th>Cabin_deck</th>\n",
       "      <th>Cabin_no.</th>\n",
       "      <th>Cabin_side</th>\n",
       "    </tr>\n",
       "  </thead>\n",
       "  <tbody>\n",
       "    <tr>\n",
       "      <th>0</th>\n",
       "      <td>0013_01</td>\n",
       "      <td>Earth</td>\n",
       "      <td>True</td>\n",
       "      <td>G/3/S</td>\n",
       "      <td>TRAPPIST-1e</td>\n",
       "      <td>27.0</td>\n",
       "      <td>False</td>\n",
       "      <td>0.0</td>\n",
       "      <td>0.0</td>\n",
       "      <td>0.0</td>\n",
       "      <td>...</td>\n",
       "      <td>0.0</td>\n",
       "      <td>Nelly Carsoning</td>\n",
       "      <td>0013</td>\n",
       "      <td>01</td>\n",
       "      <td>True</td>\n",
       "      <td>1</td>\n",
       "      <td>Carsoning</td>\n",
       "      <td>G</td>\n",
       "      <td>3</td>\n",
       "      <td>S</td>\n",
       "    </tr>\n",
       "    <tr>\n",
       "      <th>1</th>\n",
       "      <td>0018_01</td>\n",
       "      <td>Earth</td>\n",
       "      <td>False</td>\n",
       "      <td>F/4/S</td>\n",
       "      <td>TRAPPIST-1e</td>\n",
       "      <td>19.0</td>\n",
       "      <td>False</td>\n",
       "      <td>0.0</td>\n",
       "      <td>9.0</td>\n",
       "      <td>0.0</td>\n",
       "      <td>...</td>\n",
       "      <td>0.0</td>\n",
       "      <td>Lerome Peckers</td>\n",
       "      <td>0018</td>\n",
       "      <td>01</td>\n",
       "      <td>True</td>\n",
       "      <td>1</td>\n",
       "      <td>Peckers</td>\n",
       "      <td>F</td>\n",
       "      <td>4</td>\n",
       "      <td>S</td>\n",
       "    </tr>\n",
       "    <tr>\n",
       "      <th>2</th>\n",
       "      <td>0019_01</td>\n",
       "      <td>Europa</td>\n",
       "      <td>True</td>\n",
       "      <td>C/0/S</td>\n",
       "      <td>55 Cancri e</td>\n",
       "      <td>31.0</td>\n",
       "      <td>False</td>\n",
       "      <td>0.0</td>\n",
       "      <td>0.0</td>\n",
       "      <td>0.0</td>\n",
       "      <td>...</td>\n",
       "      <td>0.0</td>\n",
       "      <td>Sabih Unhearfus</td>\n",
       "      <td>0019</td>\n",
       "      <td>01</td>\n",
       "      <td>True</td>\n",
       "      <td>1</td>\n",
       "      <td>Unhearfus</td>\n",
       "      <td>C</td>\n",
       "      <td>0</td>\n",
       "      <td>S</td>\n",
       "    </tr>\n",
       "    <tr>\n",
       "      <th>3</th>\n",
       "      <td>0021_01</td>\n",
       "      <td>Europa</td>\n",
       "      <td>False</td>\n",
       "      <td>C/1/S</td>\n",
       "      <td>TRAPPIST-1e</td>\n",
       "      <td>38.0</td>\n",
       "      <td>False</td>\n",
       "      <td>0.0</td>\n",
       "      <td>6652.0</td>\n",
       "      <td>0.0</td>\n",
       "      <td>...</td>\n",
       "      <td>585.0</td>\n",
       "      <td>Meratz Caltilter</td>\n",
       "      <td>0021</td>\n",
       "      <td>01</td>\n",
       "      <td>True</td>\n",
       "      <td>1</td>\n",
       "      <td>Caltilter</td>\n",
       "      <td>C</td>\n",
       "      <td>1</td>\n",
       "      <td>S</td>\n",
       "    </tr>\n",
       "    <tr>\n",
       "      <th>4</th>\n",
       "      <td>0023_01</td>\n",
       "      <td>Earth</td>\n",
       "      <td>False</td>\n",
       "      <td>F/5/S</td>\n",
       "      <td>TRAPPIST-1e</td>\n",
       "      <td>20.0</td>\n",
       "      <td>False</td>\n",
       "      <td>10.0</td>\n",
       "      <td>0.0</td>\n",
       "      <td>635.0</td>\n",
       "      <td>...</td>\n",
       "      <td>0.0</td>\n",
       "      <td>Brence Harperez</td>\n",
       "      <td>0023</td>\n",
       "      <td>01</td>\n",
       "      <td>True</td>\n",
       "      <td>1</td>\n",
       "      <td>Harperez</td>\n",
       "      <td>F</td>\n",
       "      <td>5</td>\n",
       "      <td>S</td>\n",
       "    </tr>\n",
       "  </tbody>\n",
       "</table>\n",
       "<p>5 rows × 21 columns</p>\n",
       "</div>"
      ],
      "text/plain": [
       "  PassengerId HomePlanet CryoSleep  Cabin  Destination   Age    VIP  \\\n",
       "0     0013_01      Earth      True  G/3/S  TRAPPIST-1e  27.0  False   \n",
       "1     0018_01      Earth     False  F/4/S  TRAPPIST-1e  19.0  False   \n",
       "2     0019_01     Europa      True  C/0/S  55 Cancri e  31.0  False   \n",
       "3     0021_01     Europa     False  C/1/S  TRAPPIST-1e  38.0  False   \n",
       "4     0023_01      Earth     False  F/5/S  TRAPPIST-1e  20.0  False   \n",
       "\n",
       "   RoomService  FoodCourt  ShoppingMall  ...  VRDeck              Name Group  \\\n",
       "0          0.0        0.0           0.0  ...     0.0   Nelly Carsoning  0013   \n",
       "1          0.0        9.0           0.0  ...     0.0    Lerome Peckers  0018   \n",
       "2          0.0        0.0           0.0  ...     0.0   Sabih Unhearfus  0019   \n",
       "3          0.0     6652.0           0.0  ...   585.0  Meratz Caltilter  0021   \n",
       "4         10.0        0.0         635.0  ...     0.0   Brence Harperez  0023   \n",
       "\n",
       "  Member is_alone  No_members_in_group    surname Cabin_deck Cabin_no.  \\\n",
       "0     01     True                    1  Carsoning          G         3   \n",
       "1     01     True                    1    Peckers          F         4   \n",
       "2     01     True                    1  Unhearfus          C         0   \n",
       "3     01     True                    1  Caltilter          C         1   \n",
       "4     01     True                    1   Harperez          F         5   \n",
       "\n",
       "  Cabin_side  \n",
       "0          S  \n",
       "1          S  \n",
       "2          S  \n",
       "3          S  \n",
       "4          S  \n",
       "\n",
       "[5 rows x 21 columns]"
      ]
     },
     "execution_count": 28,
     "metadata": {},
     "output_type": "execute_result"
    }
   ],
   "source": [
    "test.head()"
   ]
  },
  {
   "cell_type": "code",
   "execution_count": 29,
   "id": "fe4cb752",
   "metadata": {},
   "outputs": [
    {
     "data": {
      "text/plain": [
       "PassengerId              0\n",
       "HomePlanet              87\n",
       "CryoSleep               93\n",
       "Cabin                  100\n",
       "Destination             92\n",
       "Age                     91\n",
       "VIP                     93\n",
       "RoomService             82\n",
       "FoodCourt              106\n",
       "ShoppingMall            98\n",
       "Spa                    101\n",
       "VRDeck                  80\n",
       "Name                    94\n",
       "Group                    0\n",
       "Member                   0\n",
       "is_alone                 0\n",
       "No_members_in_group      0\n",
       "surname                 94\n",
       "Cabin_deck             100\n",
       "Cabin_no.              100\n",
       "Cabin_side             100\n",
       "dtype: int64"
      ]
     },
     "execution_count": 29,
     "metadata": {},
     "output_type": "execute_result"
    }
   ],
   "source": [
    "test.isnull().sum()"
   ]
  },
  {
   "cell_type": "markdown",
   "id": "c1ea3ebc",
   "metadata": {},
   "source": [
    "### The Missing Data above will the Filled in the Dataset.\n",
    "###  The numerical columns with missing values will be filled with the MEDIAN value while the categorical column filled with the MODE"
   ]
  },
  {
   "cell_type": "code",
   "execution_count": 30,
   "id": "ccbfa321",
   "metadata": {},
   "outputs": [
    {
     "data": {
      "text/plain": [
       "PassengerId            False\n",
       "HomePlanet             False\n",
       "CryoSleep              False\n",
       "Cabin                  False\n",
       "Destination            False\n",
       "Age                    False\n",
       "VIP                    False\n",
       "RoomService            False\n",
       "FoodCourt              False\n",
       "ShoppingMall           False\n",
       "Spa                    False\n",
       "VRDeck                 False\n",
       "Name                   False\n",
       "Group                  False\n",
       "Member                 False\n",
       "is_alone               False\n",
       "No_members_in_group    False\n",
       "surname                False\n",
       "Cabin_deck             False\n",
       "Cabin_no.              False\n",
       "Cabin_side             False\n",
       "dtype: bool"
      ]
     },
     "execution_count": 30,
     "metadata": {},
     "output_type": "execute_result"
    }
   ],
   "source": [
    "numeriacl_cols=['Age','RoomService','FoodCourt', 'ShoppingMall', 'Spa', 'VRDeck']\n",
    "\n",
    "\n",
    "categoriacl_cols=['HomePlanet','CryoSleep','Destination','Cabin','VIP','Name','Cabin_side','Cabin_no.','surname','Cabin_deck']\n",
    "\n",
    "def fill_missing(df):\n",
    "    \n",
    "    for ft in categoriacl_cols:\n",
    "        df[ft].fillna(df[ft].mode()[0],inplace=True)\n",
    "        \n",
    "    for ft in numeriacl_cols:\n",
    "        df[ft].fillna(df[ft].median(),inplace=True)\n",
    "        \n",
    "    return df\n",
    "\n",
    "fill_missing(test)\n",
    "test.isna().any()"
   ]
  },
  {
   "cell_type": "code",
   "execution_count": 31,
   "id": "abe25dda",
   "metadata": {
    "scrolled": true
   },
   "outputs": [
    {
     "data": {
      "text/plain": [
       "PassengerId            0\n",
       "HomePlanet             0\n",
       "CryoSleep              0\n",
       "Cabin                  0\n",
       "Destination            0\n",
       "Age                    0\n",
       "VIP                    0\n",
       "RoomService            0\n",
       "FoodCourt              0\n",
       "ShoppingMall           0\n",
       "Spa                    0\n",
       "VRDeck                 0\n",
       "Name                   0\n",
       "Group                  0\n",
       "Member                 0\n",
       "is_alone               0\n",
       "No_members_in_group    0\n",
       "surname                0\n",
       "Cabin_deck             0\n",
       "Cabin_no.              0\n",
       "Cabin_side             0\n",
       "dtype: int64"
      ]
     },
     "execution_count": 31,
     "metadata": {},
     "output_type": "execute_result"
    }
   ],
   "source": [
    "test.isnull().sum()"
   ]
  },
  {
   "cell_type": "markdown",
   "id": "9014a3b7",
   "metadata": {},
   "source": [
    "## DROPPING PASSENGERId FROM THE TEST DATA"
   ]
  },
  {
   "cell_type": "code",
   "execution_count": 32,
   "id": "0d320a2d",
   "metadata": {},
   "outputs": [],
   "source": [
    "PassengerId= test['PassengerId']"
   ]
  },
  {
   "cell_type": "code",
   "execution_count": 33,
   "id": "d4fe6cbd",
   "metadata": {},
   "outputs": [],
   "source": [
    "cols_drop = ['PassengerId']\n",
    "test = test.drop(cols_drop, axis = 1)"
   ]
  },
  {
   "cell_type": "markdown",
   "id": "b79d921c",
   "metadata": {},
   "source": [
    "## Converting Test Categorical Data To Numerical Data"
   ]
  },
  {
   "cell_type": "code",
   "execution_count": 34,
   "id": "b7550810",
   "metadata": {},
   "outputs": [],
   "source": [
    "test['HomePlanet'] = test['HomePlanet'].astype('category').cat.codes\n",
    "\n",
    "test['CryoSleep'] = test['CryoSleep'].astype('category').cat.codes\n",
    "\n",
    "test['Destination'] = test['Destination'].astype('category').cat.codes\n",
    "\n",
    "test['VIP'] = test['VIP'].astype('category').cat.codes\n",
    "\n",
    "test['Cabin'] = test['Cabin'].astype('category').cat.codes\n",
    "\n",
    "test['Name'] = test['Name'].astype('category').cat.codes\n",
    "\n",
    "test['Cabin_side'] = test['Cabin_side'].astype('category').cat.codes\n",
    "\n",
    "test['Cabin_no.'] = test['Cabin_no.'].astype('category').cat.codes\n",
    "\n",
    "test['surname'] = test['surname'].astype('category').cat.codes\n",
    "\n",
    "test['Cabin_deck'] = test['Cabin_deck'].astype('category').cat.codes\n",
    "\n",
    "test['Group'] = test['Group'].astype('category').cat.codes\n",
    "\n",
    "test['is_alone'] = test['is_alone'].astype('category').cat.codes\n",
    "\n",
    "test['Member'] = test['Member'].astype('category').cat.codes\n",
    "\n"
   ]
  },
  {
   "cell_type": "code",
   "execution_count": 35,
   "id": "75f11016",
   "metadata": {},
   "outputs": [
    {
     "data": {
      "text/html": [
       "<div>\n",
       "<style scoped>\n",
       "    .dataframe tbody tr th:only-of-type {\n",
       "        vertical-align: middle;\n",
       "    }\n",
       "\n",
       "    .dataframe tbody tr th {\n",
       "        vertical-align: top;\n",
       "    }\n",
       "\n",
       "    .dataframe thead th {\n",
       "        text-align: right;\n",
       "    }\n",
       "</style>\n",
       "<table border=\"1\" class=\"dataframe\">\n",
       "  <thead>\n",
       "    <tr style=\"text-align: right;\">\n",
       "      <th></th>\n",
       "      <th>HomePlanet</th>\n",
       "      <th>CryoSleep</th>\n",
       "      <th>Cabin</th>\n",
       "      <th>Destination</th>\n",
       "      <th>Age</th>\n",
       "      <th>VIP</th>\n",
       "      <th>RoomService</th>\n",
       "      <th>FoodCourt</th>\n",
       "      <th>ShoppingMall</th>\n",
       "      <th>Spa</th>\n",
       "      <th>VRDeck</th>\n",
       "      <th>Name</th>\n",
       "      <th>Group</th>\n",
       "      <th>Member</th>\n",
       "      <th>is_alone</th>\n",
       "      <th>No_members_in_group</th>\n",
       "      <th>surname</th>\n",
       "      <th>Cabin_deck</th>\n",
       "      <th>Cabin_no.</th>\n",
       "      <th>Cabin_side</th>\n",
       "    </tr>\n",
       "  </thead>\n",
       "  <tbody>\n",
       "    <tr>\n",
       "      <th>0</th>\n",
       "      <td>0</td>\n",
       "      <td>1</td>\n",
       "      <td>2784</td>\n",
       "      <td>2</td>\n",
       "      <td>27.0</td>\n",
       "      <td>0</td>\n",
       "      <td>0.0</td>\n",
       "      <td>0.0</td>\n",
       "      <td>0.0</td>\n",
       "      <td>0.0</td>\n",
       "      <td>0.0</td>\n",
       "      <td>2912</td>\n",
       "      <td>0</td>\n",
       "      <td>0</td>\n",
       "      <td>1</td>\n",
       "      <td>1</td>\n",
       "      <td>275</td>\n",
       "      <td>6</td>\n",
       "      <td>820</td>\n",
       "      <td>1</td>\n",
       "    </tr>\n",
       "    <tr>\n",
       "      <th>1</th>\n",
       "      <td>0</td>\n",
       "      <td>0</td>\n",
       "      <td>1867</td>\n",
       "      <td>2</td>\n",
       "      <td>19.0</td>\n",
       "      <td>0</td>\n",
       "      <td>0.0</td>\n",
       "      <td>9.0</td>\n",
       "      <td>0.0</td>\n",
       "      <td>2823.0</td>\n",
       "      <td>0.0</td>\n",
       "      <td>2406</td>\n",
       "      <td>1</td>\n",
       "      <td>0</td>\n",
       "      <td>1</td>\n",
       "      <td>1</td>\n",
       "      <td>1190</td>\n",
       "      <td>5</td>\n",
       "      <td>927</td>\n",
       "      <td>1</td>\n",
       "    </tr>\n",
       "    <tr>\n",
       "      <th>2</th>\n",
       "      <td>1</td>\n",
       "      <td>1</td>\n",
       "      <td>257</td>\n",
       "      <td>0</td>\n",
       "      <td>31.0</td>\n",
       "      <td>0</td>\n",
       "      <td>0.0</td>\n",
       "      <td>0.0</td>\n",
       "      <td>0.0</td>\n",
       "      <td>0.0</td>\n",
       "      <td>0.0</td>\n",
       "      <td>3376</td>\n",
       "      <td>2</td>\n",
       "      <td>0</td>\n",
       "      <td>1</td>\n",
       "      <td>1</td>\n",
       "      <td>1604</td>\n",
       "      <td>2</td>\n",
       "      <td>0</td>\n",
       "      <td>1</td>\n",
       "    </tr>\n",
       "    <tr>\n",
       "      <th>3</th>\n",
       "      <td>1</td>\n",
       "      <td>0</td>\n",
       "      <td>259</td>\n",
       "      <td>2</td>\n",
       "      <td>38.0</td>\n",
       "      <td>0</td>\n",
       "      <td>0.0</td>\n",
       "      <td>6652.0</td>\n",
       "      <td>0.0</td>\n",
       "      <td>181.0</td>\n",
       "      <td>585.0</td>\n",
       "      <td>2711</td>\n",
       "      <td>3</td>\n",
       "      <td>0</td>\n",
       "      <td>1</td>\n",
       "      <td>1</td>\n",
       "      <td>262</td>\n",
       "      <td>2</td>\n",
       "      <td>1</td>\n",
       "      <td>1</td>\n",
       "    </tr>\n",
       "    <tr>\n",
       "      <th>4</th>\n",
       "      <td>0</td>\n",
       "      <td>0</td>\n",
       "      <td>1940</td>\n",
       "      <td>2</td>\n",
       "      <td>20.0</td>\n",
       "      <td>0</td>\n",
       "      <td>10.0</td>\n",
       "      <td>0.0</td>\n",
       "      <td>635.0</td>\n",
       "      <td>0.0</td>\n",
       "      <td>0.0</td>\n",
       "      <td>668</td>\n",
       "      <td>4</td>\n",
       "      <td>0</td>\n",
       "      <td>1</td>\n",
       "      <td>1</td>\n",
       "      <td>736</td>\n",
       "      <td>5</td>\n",
       "      <td>1029</td>\n",
       "      <td>1</td>\n",
       "    </tr>\n",
       "  </tbody>\n",
       "</table>\n",
       "</div>"
      ],
      "text/plain": [
       "   HomePlanet  CryoSleep  Cabin  Destination   Age  VIP  RoomService  \\\n",
       "0           0          1   2784            2  27.0    0          0.0   \n",
       "1           0          0   1867            2  19.0    0          0.0   \n",
       "2           1          1    257            0  31.0    0          0.0   \n",
       "3           1          0    259            2  38.0    0          0.0   \n",
       "4           0          0   1940            2  20.0    0         10.0   \n",
       "\n",
       "   FoodCourt  ShoppingMall     Spa  VRDeck  Name  Group  Member  is_alone  \\\n",
       "0        0.0           0.0     0.0     0.0  2912      0       0         1   \n",
       "1        9.0           0.0  2823.0     0.0  2406      1       0         1   \n",
       "2        0.0           0.0     0.0     0.0  3376      2       0         1   \n",
       "3     6652.0           0.0   181.0   585.0  2711      3       0         1   \n",
       "4        0.0         635.0     0.0     0.0   668      4       0         1   \n",
       "\n",
       "   No_members_in_group  surname  Cabin_deck  Cabin_no.  Cabin_side  \n",
       "0                    1      275           6        820           1  \n",
       "1                    1     1190           5        927           1  \n",
       "2                    1     1604           2          0           1  \n",
       "3                    1      262           2          1           1  \n",
       "4                    1      736           5       1029           1  "
      ]
     },
     "execution_count": 35,
     "metadata": {},
     "output_type": "execute_result"
    }
   ],
   "source": [
    "test.head()"
   ]
  },
  {
   "cell_type": "code",
   "execution_count": 36,
   "id": "b424d902",
   "metadata": {},
   "outputs": [
    {
     "name": "stdout",
     "output_type": "stream",
     "text": [
      "<class 'pandas.core.frame.DataFrame'>\n",
      "RangeIndex: 4277 entries, 0 to 4276\n",
      "Data columns (total 20 columns):\n",
      " #   Column               Non-Null Count  Dtype  \n",
      "---  ------               --------------  -----  \n",
      " 0   HomePlanet           4277 non-null   int8   \n",
      " 1   CryoSleep            4277 non-null   int8   \n",
      " 2   Cabin                4277 non-null   int16  \n",
      " 3   Destination          4277 non-null   int8   \n",
      " 4   Age                  4277 non-null   float64\n",
      " 5   VIP                  4277 non-null   int8   \n",
      " 6   RoomService          4277 non-null   float64\n",
      " 7   FoodCourt            4277 non-null   float64\n",
      " 8   ShoppingMall         4277 non-null   float64\n",
      " 9   Spa                  4277 non-null   float64\n",
      " 10  VRDeck               4277 non-null   float64\n",
      " 11  Name                 4277 non-null   int16  \n",
      " 12  Group                4277 non-null   int16  \n",
      " 13  Member               4277 non-null   int8   \n",
      " 14  is_alone             4277 non-null   int8   \n",
      " 15  No_members_in_group  4277 non-null   int64  \n",
      " 16  surname              4277 non-null   int16  \n",
      " 17  Cabin_deck           4277 non-null   int8   \n",
      " 18  Cabin_no.            4277 non-null   int16  \n",
      " 19  Cabin_side           4277 non-null   int8   \n",
      "dtypes: float64(6), int16(5), int64(1), int8(8)\n",
      "memory usage: 309.2 KB\n"
     ]
    }
   ],
   "source": [
    "test.info()"
   ]
  },
  {
   "cell_type": "markdown",
   "id": "8c43f555",
   "metadata": {},
   "source": [
    "## STEP 5: MODELLING"
   ]
  },
  {
   "cell_type": "code",
   "execution_count": 37,
   "id": "3c705e42",
   "metadata": {},
   "outputs": [],
   "source": [
    "from sklearn.model_selection import train_test_split\n",
    "from sklearn.model_selection import StratifiedKFold as sfk\n"
   ]
  },
  {
   "cell_type": "markdown",
   "id": "c7e2cb73",
   "metadata": {},
   "source": [
    "### Defining our Train and Feature Dataset"
   ]
  },
  {
   "cell_type": "code",
   "execution_count": 38,
   "id": "35262256",
   "metadata": {},
   "outputs": [],
   "source": [
    "train_set = train.drop(\"Transported\", axis=1)\n",
    "train_set_trans = train[\"Transported\"]"
   ]
  },
  {
   "cell_type": "markdown",
   "id": "62a6b300",
   "metadata": {},
   "source": [
    "### Splitting our Data"
   ]
  },
  {
   "cell_type": "code",
   "execution_count": 39,
   "id": "633df1ca",
   "metadata": {},
   "outputs": [],
   "source": [
    "x_train, x_test, y_train, y_test = train_test_split(\n",
    "    train_set, train_set_trans,\n",
    "    train_size=0.8, random_state=0\n",
    ")"
   ]
  },
  {
   "cell_type": "code",
   "execution_count": 40,
   "id": "f303cb9f",
   "metadata": {},
   "outputs": [
    {
     "name": "stdout",
     "output_type": "stream",
     "text": [
      "(6954, 20) (6954,)\n",
      "(1739, 20) (1739,)\n"
     ]
    }
   ],
   "source": [
    "print(x_train.shape, y_train.shape)\n",
    "print(x_test.shape, y_test.shape)"
   ]
  },
  {
   "cell_type": "markdown",
   "id": "ed2db1b8",
   "metadata": {},
   "source": [
    "## LOGISTICREGRESSION MODEL"
   ]
  },
  {
   "cell_type": "code",
   "execution_count": 41,
   "id": "dda0c031",
   "metadata": {},
   "outputs": [
    {
     "name": "stdout",
     "output_type": "stream",
     "text": [
      "Accuracy: 0.7683\n"
     ]
    },
    {
     "name": "stderr",
     "output_type": "stream",
     "text": [
      "C:\\Users\\user\\anaconda3\\lib\\site-packages\\sklearn\\linear_model\\_logistic.py:763: ConvergenceWarning: lbfgs failed to converge (status=1):\n",
      "STOP: TOTAL NO. of ITERATIONS REACHED LIMIT.\n",
      "\n",
      "Increase the number of iterations (max_iter) or scale the data as shown in:\n",
      "    https://scikit-learn.org/stable/modules/preprocessing.html\n",
      "Please also refer to the documentation for alternative solver options:\n",
      "    https://scikit-learn.org/stable/modules/linear_model.html#logistic-regression\n",
      "  n_iter_i = _check_optimize_result(\n"
     ]
    }
   ],
   "source": [
    "from sklearn.linear_model import LogisticRegression\n",
    "from sklearn.metrics import accuracy_score\n",
    "from sklearn.metrics import confusion_matrix\n",
    "\n",
    "logreg = LogisticRegression()\n",
    "\n",
    "logreg.fit(x_train, y_train)\n",
    "\n",
    "\n",
    "pred = logreg.predict(x_test)\n",
    "\n",
    "\n",
    "print(\"Accuracy: {}\".format(round(accuracy_score(y_test, pred), 4)))"
   ]
  },
  {
   "cell_type": "markdown",
   "id": "51d986e0",
   "metadata": {},
   "source": [
    "## STOCHASTIC GRADIENENT (SGD) CLASSIFIER MODEL"
   ]
  },
  {
   "cell_type": "code",
   "execution_count": 42,
   "id": "0758672d",
   "metadata": {},
   "outputs": [],
   "source": [
    "from sklearn.linear_model import SGDClassifier\n",
    "SGC = SGDClassifier(loss=\"hinge\", penalty=\"l2\", max_iter=5, tol = None)\n",
    "SGC.fit(x_train, y_train)\n",
    "SGC_predict = SGC.predict(x_test)\n",
    "\n",
    "SGC.score(x_train, y_train)\n",
    "\n",
    "SG_Classifier = round(SGC.score(x_train, y_train), 4)"
   ]
  },
  {
   "cell_type": "code",
   "execution_count": 43,
   "id": "3b22487d",
   "metadata": {},
   "outputs": [
    {
     "data": {
      "text/plain": [
       "0.6558815070463043"
      ]
     },
     "execution_count": 43,
     "metadata": {},
     "output_type": "execute_result"
    }
   ],
   "source": [
    "SGC.score(x_train, y_train)"
   ]
  },
  {
   "cell_type": "markdown",
   "id": "5c906b88",
   "metadata": {},
   "source": [
    "## RANDOM FOREST CLASSIFIER MODEL"
   ]
  },
  {
   "cell_type": "code",
   "execution_count": 44,
   "id": "f946f43a",
   "metadata": {},
   "outputs": [
    {
     "data": {
      "text/plain": [
       "RandomForestClassifier(criterion='entropy', max_depth=9, min_samples_split=16,\n",
       "                       n_estimators=140, random_state=42, warm_start=True)"
      ]
     },
     "execution_count": 44,
     "metadata": {},
     "output_type": "execute_result"
    }
   ],
   "source": [
    "from sklearn.ensemble import RandomForestClassifier\n",
    "\n",
    "RFC = RandomForestClassifier(\n",
    "    bootstrap=True, class_weight=None, criterion='entropy',\n",
    "                       max_depth=9, max_features='auto', max_leaf_nodes=None,\n",
    "                       min_impurity_decrease=0.0, min_impurity_split=None,\n",
    "                       min_samples_leaf=1, min_samples_split=16,\n",
    "                       min_weight_fraction_leaf=0.0, n_estimators=140,\n",
    "                       n_jobs=None, oob_score=False, random_state=42, verbose=0,\n",
    "                       warm_start=True\n",
    ")\n",
    "\n",
    "RFC.fit(x_train, y_train)"
   ]
  },
  {
   "cell_type": "code",
   "execution_count": 45,
   "id": "4951f2ba",
   "metadata": {},
   "outputs": [
    {
     "data": {
      "text/plain": [
       "0.8412424503882657"
      ]
     },
     "execution_count": 45,
     "metadata": {},
     "output_type": "execute_result"
    }
   ],
   "source": [
    "RFC.score(x_train, y_train)"
   ]
  },
  {
   "cell_type": "markdown",
   "id": "4d665499",
   "metadata": {},
   "source": [
    "# FROM THE RESULT OF THE DIFFERENT CLASSIFICATION MODEL TESTED, LOGISTICREGRESSION HAS THE BEST SCORE OF 84.1% AND WILL BE USED AS OUR MODEL"
   ]
  },
  {
   "cell_type": "markdown",
   "id": "8dc0ebcc",
   "metadata": {},
   "source": [
    "# STEP6: Loading And Saving Predicted Result to CSV File"
   ]
  },
  {
   "cell_type": "code",
   "execution_count": 46,
   "id": "82c92352",
   "metadata": {},
   "outputs": [],
   "source": [
    "RFC =RFC.predict(test)"
   ]
  },
  {
   "cell_type": "code",
   "execution_count": 47,
   "id": "0a86074a",
   "metadata": {},
   "outputs": [],
   "source": [
    "RFC = RFC.astype(bool)"
   ]
  },
  {
   "cell_type": "code",
   "execution_count": 48,
   "id": "c126c907",
   "metadata": {},
   "outputs": [],
   "source": [
    "test_result = test.copy()"
   ]
  },
  {
   "cell_type": "code",
   "execution_count": 49,
   "id": "f75436ef",
   "metadata": {},
   "outputs": [],
   "source": [
    "test_result['Transported'] = RFC\n",
    "\n",
    "\n",
    "df =PassengerId\n"
   ]
  },
  {
   "cell_type": "code",
   "execution_count": 50,
   "id": "dadc3fe1",
   "metadata": {},
   "outputs": [],
   "source": [
    "df = pd.concat([df, test_result[['Transported']]], axis = 1)"
   ]
  },
  {
   "cell_type": "code",
   "execution_count": 52,
   "id": "b50c670e",
   "metadata": {},
   "outputs": [],
   "source": [
    "df.to_csv('Spaceship_Titanic_Predicted_Result.csv', header = True, index = False) #saves to CSV"
   ]
  },
  {
   "cell_type": "code",
   "execution_count": null,
   "id": "be8cd5db",
   "metadata": {},
   "outputs": [],
   "source": []
  }
 ],
 "metadata": {
  "kernelspec": {
   "display_name": "Python 3 (ipykernel)",
   "language": "python",
   "name": "python3"
  },
  "language_info": {
   "codemirror_mode": {
    "name": "ipython",
    "version": 3
   },
   "file_extension": ".py",
   "mimetype": "text/x-python",
   "name": "python",
   "nbconvert_exporter": "python",
   "pygments_lexer": "ipython3",
   "version": "3.9.7"
  }
 },
 "nbformat": 4,
 "nbformat_minor": 5
}
